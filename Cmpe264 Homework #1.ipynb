{
 "metadata": {
  "name": "Cmpe264 Homework #1"
 }, 
 "nbformat": 2, 
 "worksheets": [
  {
   "cells": [
    {
     "cell_type": "markdown", 
     "source": [
      "This is for #1 of the homework"
     ]
    }, 
    {
     "cell_type": "code", 
     "collapsed": false, 
     "input": [
      "from __future__ import division", 
      "import math", 
      "cos4 = lambda theta: cos(theta)**2", 
      "ro = 0.7", 
      "I = 20 / (4 * math.pi)", 
      "", 
      "R = 1", 
      "df = 1/11", 
      "zeta = 0", 
      "alpha = 0", 
      "lightbulb = ro * (I / (4 * R**2)) * cos(zeta) * df**2  * cos4(alpha)", 
      "#lightbulb", 
      "lightbulb"
     ], 
     "language": "python", 
     "outputs": [
      {
       "output_type": "pyout", 
       "prompt_number": 23, 
       "text": [
        "0.0023018276893455934"
       ]
      }
     ], 
     "prompt_number": 23
    }, 
    {
     "cell_type": "code", 
     "collapsed": false, 
     "input": [
      "ro = 0.7", 
      "R = 12**0.5", 
      "I = 20", 
      "zeta = math.acos(2/12**0.5)#math.atan(2/8**0.5)", 
      "alpha = 0", 
      "spotlight = ro * (I / (4 * R**2)) * cos(zeta) * df**2  * cos4(alpha)", 
      "#spotlight", 
      "spotlight"
     ], 
     "language": "python", 
     "outputs": [
      {
       "output_type": "pyout", 
       "prompt_number": 21, 
       "text": [
        "0.0013916845331705858"
       ]
      }
     ], 
     "prompt_number": 21
    }, 
    {
     "cell_type": "code", 
     "collapsed": false, 
     "input": [
      "spotlight + lightbulb", 
      "#math.degrees(math.acos(1/2**.5))"
     ], 
     "language": "python", 
     "outputs": [
      {
       "output_type": "pyout", 
       "prompt_number": 22, 
       "text": [
        "0.0030193225014298166"
       ]
      }
     ], 
     "prompt_number": 22
    }, 
    {
     "cell_type": "markdown", 
     "source": [
      "second part of #1"
     ]
    }, 
    {
     "cell_type": "code", 
     "collapsed": false, 
     "input": [
      "irradiance = lambda ro, I, R, zeta, df, alpha: ro * (I / (4 * R**2)) * cos(zeta) * df**2  * cos4(alpha)", 
      "ro = 0.7", 
      "R = 12**0.5", 
      "I = 20", 
      "zeta = math.pi/4#math.atan(2/8**0.5)", 
      "alpha = 0", 
      "new_spotlight = 2.057*10**-3", 
      "new_zeta = math.acos(new_spotlight / (ro * (I / (4 * R**2)) * df**2  * cos4(alpha)))", 
      "new_zeta #angle", 
      "irradiance(ro, I, R, new_zeta, df, alpha) #of spotlight", 
      "math.degrees(new_zeta)"
     ], 
     "language": "python", 
     "outputs": [
      {
       "output_type": "pyout", 
       "prompt_number": 7, 
       "text": [
        "31.420850209188707"
       ]
      }
     ], 
     "prompt_number": 7
    }, 
    {
     "cell_type": "code", 
     "collapsed": false, 
     "input": [
      "I = 20 / (4 * math.pi)", 
      "R = 1", 
      "df = 1/11", 
      "zeta = 0", 
      "alpha = 0", 
      "lightbulb = ro * (I / (4 * R**2)) * cos(zeta) * df**2  * cos4(alpha)", 
      "new_lightbulb = 1.984*10**-3", 
      "new_zeta = math.acos(new_lightbulb / (ro * (I / (4 * R**2)) * df**2  * cos4(alpha)))", 
      "new_zeta", 
      "irradiance(ro, I, R, new_zeta, df, alpha)", 
      "math.degrees(new_zeta)"
     ], 
     "language": "python", 
     "outputs": [
      {
       "output_type": "pyout", 
       "prompt_number": 9, 
       "text": [
        "30.466725247885588"
       ]
      }
     ], 
     "prompt_number": 9
    }, 
    {
     "cell_type": "code", 
     "collapsed": false, 
     "input": [
      "math.degrees(math.acos(2/12**.5))"
     ], 
     "language": "python", 
     "outputs": [
      {
       "output_type": "pyout", 
       "prompt_number": 10, 
       "text": [
        "54.735610317245346"
       ]
      }
     ], 
     "prompt_number": 10
    }, 
    {
     "cell_type": "code", 
     "collapsed": false, 
     "input": [
      "plot([math.cos(math.cos(math.cos(math.cos(x)))) for x in np.linspace(0, 4*math.pi, 720)])"
     ], 
     "language": "python", 
     "outputs": [
      {
       "output_type": "pyout", 
       "prompt_number": 3, 
       "text": [
        "[<matplotlib.lines.Line2D at 0x10b9ade10>]"
       ]
      }, 
      {
       "output_type": "display_data", 
       "png": "[encoded data removed]"
      }
     ], 
     "prompt_number": 3
    }, 
    {
     "cell_type": "markdown", 
     "source": [
      "Now for the matrix problem"
     ]
    }, 
    {
     "cell_type": "code", 
     "collapsed": false, 
     "input": [
      "shift_matrix = np.matrix([[16], [128], [128]])", 
      "ycbcr = np.matrix([[.257, -.148, .439], [.504, -.291, -.368],[.098, .439, -.071]])", 
      "", 
      "rgb_ycbcr = lambda r, g, b: shift_matrix + (ycbcr * np.matrix([r, g, b]).transpose())", 
      "ycbcr_rgb = lambda _ycbcr:  np.linalg.inv(ycbcr).transpose() * (_ycbcr - shift_matrix)", 
      "rgb_ycbcr(255, 0, 0)", 
      "#ycbcr_rgb(*[item for item in rgb_ycbcr(255, 0, 0).tolist() for item in item])", 
      "#a = [item for item in rgb_ycbcr(255, 0, 0).tolist() for item in item]", 
      "ycbcr_rgb(rgb_ycbcr(255,0 ,0))", 
      "#print np.linalg.inv(ycbcr).transpose()"
     ], 
     "language": "python", 
     "outputs": [
      {
       "output_type": "pyout", 
       "prompt_number": 155, 
       "text": [
        "matrix([[ 115.94098837],", 
        "        [   5.65505927],", 
        "        [ 335.5920012 ]])"
       ]
      }
     ], 
     "prompt_number": 155
    }, 
    {
     "cell_type": "code", 
     "collapsed": false, 
     "input": [
      "YCrCb = np.matrix([[0.299, 0.587, 0.114],[0.5, -0.4187, -0.0813],[-0.1687, -0.3313, 0.5]])", 
      "YCrCb * np.matrix([1, 0, 0]).transpose()"
     ], 
     "language": "python", 
     "outputs": [
      {
       "output_type": "pyout", 
       "prompt_number": 28, 
       "text": [
        "matrix([[ 0.299 ],", 
        "        [ 0.5   ],", 
        "        [-0.1687]])"
       ]
      }
     ], 
     "prompt_number": 28
    }, 
    {
     "cell_type": "code", 
     "collapsed": false, 
     "input": [
      "np.linalg.inv(YCrCb) * np.matrix([1, 0, 0]).transpose()", 
      "(YCrCb**-1) * np.matrix([0, 0, 1]).transpose()"
     ], 
     "language": "python", 
     "outputs": [
      {
       "output_type": "pyout", 
       "prompt_number": 251, 
       "text": [
        "matrix([[ -3.68199903e-05],", 
        "        [ -3.44113281e-01],", 
        "        [  1.77197812e+00]])"
       ]
      }
     ], 
     "prompt_number": 251
    }, 
    {
     "cell_type": "code", 
     "collapsed": false, 
     "input": [
      "import scipy.linalg", 
      "", 
      "YCrCb**-1 * np.matrix([1, 0, 0]).transpose()", 
      "YCrCb"
     ], 
     "language": "python", 
     "outputs": [
      {
       "output_type": "pyout", 
       "prompt_number": 260, 
       "text": [
        "matrix([[ 0.299 ,  0.587 ,  0.114 ],", 
        "        [ 0.5   , -0.4187, -0.0813],", 
        "        [-0.1687, -0.3313,  0.5   ]])"
       ]
      }
     ], 
     "prompt_number": 260
    }, 
    {
     "cell_type": "code", 
     "collapsed": false, 
     "input": [
      "np.linalg.inv(YCrCb) * np.matrix([1, 0, 0]).transpose()"
     ], 
     "language": "python", 
     "outputs": [
      {
       "output_type": "pyout", 
       "prompt_number": 240, 
       "text": [
        "matrix([[ 1.],", 
        "        [ 1.],", 
        "        [ 1.]])"
       ]
      }
     ], 
     "prompt_number": 240
    }, 
    {
     "cell_type": "code", 
     "collapsed": false, 
     "input": [
      "YCrCb * np.matrix([1, 0, 0]).transpose() #red"
     ], 
     "language": "python", 
     "outputs": [
      {
       "ename": "NameError", 
       "evalue": "name 'YCrCb' is not defined", 
       "output_type": "pyerr", 
       "traceback": [
        "\u001b[0;31m---------------------------------------------------------------------------\u001b[0m\n\u001b[0;31mNameError\u001b[0m                                 Traceback (most recent call last)", 
        "\u001b[0;32m/Users/samwing/Desktop/school/courses/cmpe264/<ipython-input-26-c45f41aa1a3c>\u001b[0m in \u001b[0;36m<module>\u001b[0;34m()\u001b[0m\n\u001b[0;32m----> 1\u001b[0;31m \u001b[0mYCrCb\u001b[0m \u001b[0;34m*\u001b[0m \u001b[0mnp\u001b[0m\u001b[0;34m.\u001b[0m\u001b[0mmatrix\u001b[0m\u001b[0;34m(\u001b[0m\u001b[0;34m[\u001b[0m\u001b[0;36m1\u001b[0m\u001b[0;34m,\u001b[0m \u001b[0;36m0\u001b[0m\u001b[0;34m,\u001b[0m \u001b[0;36m0\u001b[0m\u001b[0;34m]\u001b[0m\u001b[0;34m)\u001b[0m\u001b[0;34m.\u001b[0m\u001b[0mtranspose\u001b[0m\u001b[0;34m(\u001b[0m\u001b[0;34m)\u001b[0m \u001b[0;31m#red\u001b[0m\u001b[0;34m\u001b[0m\u001b[0m\n\u001b[0m", 
        "\u001b[0;31mNameError\u001b[0m: name 'YCrCb' is not defined"
       ]
      }
     ], 
     "prompt_number": 26
    }, 
    {
     "cell_type": "code", 
     "collapsed": false, 
     "input": [
      "YCrCb * np.matrix([0, 255, 0]).transpose() #green", 
      "YCrCb * np.matrix([0, 0, 255]).transpose() #blue"
     ], 
     "language": "python", 
     "outputs": [
      {
       "output_type": "pyout", 
       "prompt_number": 7, 
       "text": [
        "matrix([[  29.07  ],", 
        "        [ -20.7315],", 
        "        [ 127.5   ]])"
       ]
      }
     ], 
     "prompt_number": 7
    }, 
    {
     "cell_type": "code", 
     "collapsed": false, 
     "input": [
      "a = np.matrix([1, 1])", 
      "i = np.matrix([1, 1])", 
      "b = np.matrix([[1], [1], [1]])", 
      "a.transpose() * i * b"
     ], 
     "language": "python", 
     "outputs": [
      {
       "ename": "ValueError", 
       "evalue": "objects are not aligned", 
       "output_type": "pyerr", 
       "traceback": [
        "\u001b[0;31m---------------------------------------------------------------------------\u001b[0m\n\u001b[0;31mValueError\u001b[0m                                Traceback (most recent call last)", 
        "\u001b[0;32m/Users/samwing/Desktop/cmpe264/<ipython-input-32-81be66d0c119>\u001b[0m in \u001b[0;36m<module>\u001b[0;34m()\u001b[0m\n\u001b[1;32m      2\u001b[0m \u001b[0mi\u001b[0m \u001b[0;34m=\u001b[0m \u001b[0mnp\u001b[0m\u001b[0;34m.\u001b[0m\u001b[0mmatrix\u001b[0m\u001b[0;34m(\u001b[0m\u001b[0;34m[\u001b[0m\u001b[0;36m1\u001b[0m\u001b[0;34m,\u001b[0m \u001b[0;36m1\u001b[0m\u001b[0;34m]\u001b[0m\u001b[0;34m)\u001b[0m\u001b[0;34m\u001b[0m\u001b[0m\n\u001b[1;32m      3\u001b[0m \u001b[0mb\u001b[0m \u001b[0;34m=\u001b[0m \u001b[0mnp\u001b[0m\u001b[0;34m.\u001b[0m\u001b[0mmatrix\u001b[0m\u001b[0;34m(\u001b[0m\u001b[0;34m[\u001b[0m\u001b[0;34m[\u001b[0m\u001b[0;36m1\u001b[0m\u001b[0;34m]\u001b[0m\u001b[0;34m,\u001b[0m \u001b[0;34m[\u001b[0m\u001b[0;36m1\u001b[0m\u001b[0;34m]\u001b[0m\u001b[0;34m,\u001b[0m \u001b[0;34m[\u001b[0m\u001b[0;36m1\u001b[0m\u001b[0;34m]\u001b[0m\u001b[0;34m]\u001b[0m\u001b[0;34m)\u001b[0m\u001b[0;34m\u001b[0m\u001b[0m\n\u001b[0;32m----> 4\u001b[0;31m \u001b[0ma\u001b[0m\u001b[0;34m.\u001b[0m\u001b[0mtranspose\u001b[0m\u001b[0;34m(\u001b[0m\u001b[0;34m)\u001b[0m \u001b[0;34m*\u001b[0m \u001b[0mi\u001b[0m \u001b[0;34m*\u001b[0m \u001b[0mb\u001b[0m\u001b[0;34m\u001b[0m\u001b[0m\n\u001b[0m", 
        "\u001b[0;32m/opt/local/Library/Frameworks/Python.framework/Versions/2.7/lib/python2.7/site-packages/numpy/matrixlib/defmatrix.pyc\u001b[0m in \u001b[0;36m__mul__\u001b[0;34m(self, other)\u001b[0m\n\u001b[1;32m    328\u001b[0m         \u001b[0;32mif\u001b[0m \u001b[0misinstance\u001b[0m\u001b[0;34m(\u001b[0m\u001b[0mother\u001b[0m\u001b[0;34m,\u001b[0m\u001b[0;34m(\u001b[0m\u001b[0mN\u001b[0m\u001b[0;34m.\u001b[0m\u001b[0mndarray\u001b[0m\u001b[0;34m,\u001b[0m \u001b[0mlist\u001b[0m\u001b[0;34m,\u001b[0m \u001b[0mtuple\u001b[0m\u001b[0;34m)\u001b[0m\u001b[0;34m)\u001b[0m \u001b[0;34m:\u001b[0m\u001b[0;34m\u001b[0m\u001b[0m\n\u001b[1;32m    329\u001b[0m             \u001b[0;31m# This promotes 1-D vectors to row vectors\u001b[0m\n\u001b[0;34m\u001b[0m\u001b[0m\n\u001b[0;32m--> 330\u001b[0;31m             \u001b[0;32mreturn\u001b[0m \u001b[0mN\u001b[0m\u001b[0;34m.\u001b[0m\u001b[0mdot\u001b[0m\u001b[0;34m(\u001b[0m\u001b[0mself\u001b[0m\u001b[0;34m,\u001b[0m \u001b[0masmatrix\u001b[0m\u001b[0;34m(\u001b[0m\u001b[0mother\u001b[0m\u001b[0;34m)\u001b[0m\u001b[0;34m)\u001b[0m\u001b[0;34m\u001b[0m\u001b[0m\n\u001b[0m\u001b[1;32m    331\u001b[0m         \u001b[0;32mif\u001b[0m \u001b[0misscalar\u001b[0m\u001b[0;34m(\u001b[0m\u001b[0mother\u001b[0m\u001b[0;34m)\u001b[0m \u001b[0;32mor\u001b[0m \u001b[0;32mnot\u001b[0m \u001b[0mhasattr\u001b[0m\u001b[0;34m(\u001b[0m\u001b[0mother\u001b[0m\u001b[0;34m,\u001b[0m \u001b[0;34m'__rmul__'\u001b[0m\u001b[0;34m)\u001b[0m \u001b[0;34m:\u001b[0m\u001b[0;34m\u001b[0m\u001b[0m\n\u001b[1;32m    332\u001b[0m             \u001b[0;32mreturn\u001b[0m \u001b[0mN\u001b[0m\u001b[0;34m.\u001b[0m\u001b[0mdot\u001b[0m\u001b[0;34m(\u001b[0m\u001b[0mself\u001b[0m\u001b[0;34m,\u001b[0m \u001b[0mother\u001b[0m\u001b[0;34m)\u001b[0m\u001b[0;34m\u001b[0m\u001b[0m\n", 
        "\u001b[0;31mValueError\u001b[0m: objects are not aligned"
       ]
      }
     ], 
     "prompt_number": 32
    }, 
    {
     "cell_type": "code", 
     "collapsed": false, 
     "input": [], 
     "language": "python", 
     "outputs": [
      {
       "ename": "ImportError", 
       "evalue": "No module named sympy", 
       "output_type": "pyerr", 
       "traceback": [
        "\u001b[0;31m---------------------------------------------------------------------------\u001b[0m\n\u001b[0;31mImportError\u001b[0m                               Traceback (most recent call last)", 
        "\u001b[0;32m/Users/samwing/Desktop/school/courses/cmpe264/<ipython-input-25-2aa9dc98f043>\u001b[0m in \u001b[0;36m<module>\u001b[0;34m()\u001b[0m\n\u001b[1;32m      1\u001b[0m \u001b[0mget_ipython\u001b[0m\u001b[0;34m(\u001b[0m\u001b[0;34m)\u001b[0m\u001b[0;34m.\u001b[0m\u001b[0mmagic\u001b[0m\u001b[0;34m(\u001b[0m\u001b[0;34mu'load_ext sympyprinting'\u001b[0m\u001b[0;34m)\u001b[0m\u001b[0;34m\u001b[0m\u001b[0m\n\u001b[0;32m----> 2\u001b[0;31m \u001b[0;32mimport\u001b[0m \u001b[0msympy\u001b[0m \u001b[0;32mas\u001b[0m \u001b[0msym\u001b[0m\u001b[0;34m\u001b[0m\u001b[0m\n\u001b[0m\u001b[1;32m      3\u001b[0m \u001b[0;32mfrom\u001b[0m \u001b[0msympy\u001b[0m \u001b[0;32mimport\u001b[0m \u001b[0;34m*\u001b[0m\u001b[0;34m\u001b[0m\u001b[0m\n", 
        "\u001b[0;31mImportError\u001b[0m: No module named sympy"
       ]
      }
     ], 
     "prompt_number": 25
    }, 
    {
     "cell_type": "code", 
     "collapsed": false, 
     "input": [
      "cos(cos(cos(cos(1))))"
     ], 
     "language": "python", 
     "outputs": [
      {
       "output_type": "pyout", 
       "prompt_number": 35, 
       "text": [
        "0.79348035874256562"
       ]
      }
     ], 
     "prompt_number": 35
    }, 
    {
     "cell_type": "code", 
     "collapsed": true, 
     "input": [
      "from numpy import *", 
      "import pylab as p", 
      "", 
      "import mpl_toolkits.mplot3d.axes3d as p3", 
      "# u and v are parametric variables.", 
      "# u is an array from 0 to 2*pi, with 100 elements", 
      "u=r_[0:2*pi:100j]", 
      "# v is an array from 0 to 2*pi, with 100 elements", 
      "v=r_[0:pi:100j]", 
      "# x, y, and z are the coordinates of the points for plotting", 
      "# each is arranged in a 100x100 array", 
      "x=.1*outer(cos(u),sin(v))", 
      "y=.1*outer(sin(u),sin(v))", 
      "z=.1*outer(ones(size(u)),cos(v))"
     ], 
     "language": "python", 
     "outputs": [], 
     "prompt_number": 27
    }, 
    {
     "cell_type": "code", 
     "collapsed": false, 
     "input": [
      "fig=p.figure()", 
      "ax = p3.Axes3D(fig)", 
      "ax.plot_wireframe(x,y,z)", 
      "ax.plot([0] + [2],[0] +  [2],[0] + [2])", 
      "ax.plot([0] + [0],[0] + [0], [0] + [1])", 
      "ax.plot([0] + [1],[0] + [0], [0] + [1])", 
      "ax.set_xlabel('X')", 
      "ax.set_ylabel('Y')", 
      "ax.set_zlabel('Z')", 
      "#ax.view_init(elev=135., azim=-45.)", 
      "ax.view_init(azim=90.)", 
      "#p.show()"
     ], 
     "language": "python", 
     "outputs": [
      {
       "output_type": "display_data", 
       "png": "[encoded data removed]"
      }
     ], 
     "prompt_number": 57
    }, 
    {
     "cell_type": "code", 
     "collapsed": false, 
     "input": [
      "135"
     ], 
     "language": "python", 
     "outputs": [
      {
       "output_type": "pyout", 
       "prompt_number": 55, 
       "text": [
        "135"
       ]
      }
     ], 
     "prompt_number": 55
    }, 
    {
     "cell_type": "code", 
     "collapsed": true, 
     "input": [
      "q_1 = np.matrix([[1, 0, 0], [1, 0, 0], [0, 0, 0], [0, 0, 0]])", 
      "q_2 = np.matrix([[0, 0, 0], [0, 0, 0], [0, 1, 0], [0, 0, 0]])", 
      "q_3 = np.matrix([[0, 0, 0], [0, 0, 0], [0, 0, 0], [0, 0, 1]])"
     ], 
     "language": "python", 
     "outputs": [], 
     "prompt_number": 66
    }, 
    {
     "cell_type": "code", 
     "collapsed": false, 
     "input": [
      "alpha1 = np.matrix([[0], [1], [0]])", 
      "alpha2 = np.matrix([[0], [.5], [0]])", 
      "#q_1 * alpha", 
      "q_alpha1 = np.matrix([[1, 0, 0], [1, 0, 0], [1, 0, 0], [1, 0, 0]])", 
      "q_alpha2 = np.matrix([[0.5, 0, 0], [0.5, 0, 0], [0.5, 0, 0], [0.5, 0, 0]])", 
      "Bs1 = np.matrix([[.25], [.25], [.25], [.25]])", 
      "Bs2 = np.matrix([[1/3], [1/3], [0], [1/3]])"
     ], 
     "language": "python", 
     "outputs": [], 
     "prompt_number": 221
    }, 
    {
     "cell_type": "code", 
     "collapsed": false, 
     "input": [
      "qp_alpha1 = np.matrix([[0, 0, 0], [0, 0 ,0], [0, 1, 0], [0, 0, 0]])", 
      "qp_alpha2 = np.matrix([[0, 0, 0], [0, 0, 0], [0, 0.5, 0], [0, 0, 0]])"
     ], 
     "language": "python", 
     "outputs": [], 
     "prompt_number": 222
    }, 
    {
     "cell_type": "code", 
     "collapsed": false, 
     "input": [
      "qp_alpha1.transpose() * Bs1"
     ], 
     "language": "python", 
     "outputs": [
      {
       "output_type": "pyout", 
       "prompt_number": 223, 
       "text": [
        "matrix([[ 0.  ],", 
        "        [ 0.25],", 
        "        [ 0.  ]])"
       ]
      }
     ], 
     "prompt_number": 223
    }, 
    {
     "cell_type": "code", 
     "collapsed": false, 
     "input": [
      "qp_alpha2.transpose() * Bs1"
     ], 
     "language": "python", 
     "outputs": [
      {
       "output_type": "pyout", 
       "prompt_number": 225, 
       "text": [
        "matrix([[ 0.   ],", 
        "        [ 0.125],", 
        "        [ 0.   ]])"
       ]
      }
     ], 
     "prompt_number": 225
    }, 
    {
     "cell_type": "code", 
     "collapsed": false, 
     "input": [
      "0.5 * qp_alpha1"
     ], 
     "language": "python", 
     "outputs": [
      {
       "output_type": "pyout", 
       "prompt_number": 205, 
       "text": [
        "matrix([[ 0. ,  0. ,  0. ],", 
        "        [ 0. ,  0. ,  0. ],", 
        "        [ 0. ,  0.5,  0. ],", 
        "        [ 0. ,  0. ,  0. ]])"
       ]
      }
     ], 
     "prompt_number": 205
    }, 
    {
     "cell_type": "code", 
     "collapsed": false, 
     "input": [
      "sq = np.matrix([[1, 0, 1], [0, 0, 1], [1, 1, 1]])", 
      "#np.linalg.inv(sq) ", 
      "sq**-1"
     ], 
     "language": "python", 
     "outputs": [
      {
       "output_type": "pyout", 
       "prompt_number": 239, 
       "text": [
        "matrix([[ 1., -1.,  0.],", 
        "        [-1.,  0.,  1.],", 
        "        [ 0.,  1.,  0.]])"
       ]
      }
     ], 
     "prompt_number": 239
    }, 
    {
     "cell_type": "code", 
     "collapsed": true, 
     "input": [], 
     "language": "python", 
     "outputs": [], 
     "prompt_number": 235
    }, 
    {
     "cell_type": "code", 
     "collapsed": true, 
     "input": [], 
     "language": "python", 
     "outputs": []
    }
   ]
  }
 ]
}